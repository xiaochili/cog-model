{
 "cells": [
  {
   "cell_type": "markdown",
   "id": "1dcda2c3-0072-4d66-a0f0-915445406cbe",
   "metadata": {},
   "source": [
    "# cog_mod"
   ]
  },
  {
   "cell_type": "markdown",
   "id": "4d0d276b-6c18-495c-86ab-6877cc0c3ede",
   "metadata": {},
   "source": [
    "The idea of this model is very simple. \n",
    "\n",
    "For the input, we record the number of times each letter appears in types A, B, and C. For example, if our test example is \"HVY\", then for category A, H appears 4 times in all A's, V appears 1 time and Y appears 2 times, then the score of \"HVY\" for A is 4 + 1 + 2 = 7. Also when the letter When the letter does not appear in the category, we use -6 as its score. For example, if the example is \"CVY\" and C does not appear in any Category A, the score of \"CVY\" for Category A is -6 + 2 + 1 = -3."
   ]
  },
  {
   "cell_type": "code",
   "execution_count": 1,
   "id": "ada03c70-54d6-4ab8-bebd-7508c01e9529",
   "metadata": {},
   "outputs": [],
   "source": [
    "import pandas as pd\n",
    "import numpy as np\n",
    "import matplotlib.pyplot as plt"
   ]
  },
  {
   "cell_type": "markdown",
   "id": "60b7f699-6a10-4adb-8ce1-494e43a739a6",
   "metadata": {},
   "source": [
    "### step1: import data from .csv"
   ]
  },
  {
   "cell_type": "code",
   "execution_count": 2,
   "id": "f13a830a-617e-4240-a3ec-f610729f8e02",
   "metadata": {},
   "outputs": [],
   "source": [
    "data = pd.ExcelFile(\"data.xlsx\").parse('Sheet1')"
   ]
  },
  {
   "cell_type": "code",
   "execution_count": 3,
   "id": "ec139664-005f-4538-98c2-dacdb3322f3e",
   "metadata": {},
   "outputs": [
    {
     "data": {
      "text/html": [
       "<div>\n",
       "<style scoped>\n",
       "    .dataframe tbody tr th:only-of-type {\n",
       "        vertical-align: middle;\n",
       "    }\n",
       "\n",
       "    .dataframe tbody tr th {\n",
       "        vertical-align: top;\n",
       "    }\n",
       "\n",
       "    .dataframe thead th {\n",
       "        text-align: right;\n",
       "    }\n",
       "</style>\n",
       "<table border=\"1\" class=\"dataframe\">\n",
       "  <thead>\n",
       "    <tr style=\"text-align: right;\">\n",
       "      <th></th>\n",
       "      <th>Dim_1</th>\n",
       "      <th>Dim_2</th>\n",
       "      <th>Dim_3</th>\n",
       "      <th>category</th>\n",
       "    </tr>\n",
       "  </thead>\n",
       "  <tbody>\n",
       "    <tr>\n",
       "      <th>0</th>\n",
       "      <td>H</td>\n",
       "      <td>R</td>\n",
       "      <td>W</td>\n",
       "      <td>category A</td>\n",
       "    </tr>\n",
       "    <tr>\n",
       "      <th>1</th>\n",
       "      <td>H</td>\n",
       "      <td>S</td>\n",
       "      <td>Y</td>\n",
       "      <td>category A</td>\n",
       "    </tr>\n",
       "    <tr>\n",
       "      <th>2</th>\n",
       "      <td>H</td>\n",
       "      <td>T</td>\n",
       "      <td>X</td>\n",
       "      <td>category A</td>\n",
       "    </tr>\n",
       "    <tr>\n",
       "      <th>3</th>\n",
       "      <td>L</td>\n",
       "      <td>T</td>\n",
       "      <td>Y</td>\n",
       "      <td>category A</td>\n",
       "    </tr>\n",
       "    <tr>\n",
       "      <th>4</th>\n",
       "      <td>K</td>\n",
       "      <td>T</td>\n",
       "      <td>Z</td>\n",
       "      <td>categories A and B</td>\n",
       "    </tr>\n",
       "  </tbody>\n",
       "</table>\n",
       "</div>"
      ],
      "text/plain": [
       "  Dim_1 Dim_2 Dim_3            category\n",
       "0     H     R     W          category A\n",
       "1     H     S     Y          category A\n",
       "2     H     T     X          category A\n",
       "3     L     T     Y          category A\n",
       "4     K     T     Z  categories A and B"
      ]
     },
     "execution_count": 3,
     "metadata": {},
     "output_type": "execute_result"
    }
   ],
   "source": [
    "data.head(5)"
   ]
  },
  {
   "cell_type": "markdown",
   "id": "0ad04d60-3e4d-40e4-b152-05d7477cf943",
   "metadata": {},
   "source": [
    "### step2: count how many times each character appears"
   ]
  },
  {
   "cell_type": "code",
   "execution_count": 4,
   "id": "dc2a6eaa-fd14-41a2-8d1a-6a217bcf6e71",
   "metadata": {},
   "outputs": [],
   "source": [
    "def count_num(cate:str) -> dict: \n",
    "    dic = {}\n",
    "    for row in data.itertuples():\n",
    "        if cate in getattr(row, \"category\"):\n",
    "            lst_dim = [getattr(row, \"Dim_\"+str(i)) for i in range(1,4)]\n",
    "            for c in lst_dim:\n",
    "                if c not in dic:\n",
    "                    dic[c] = 1\n",
    "                else:\n",
    "                    dic[c] += 1\n",
    "    return dic"
   ]
  },
  {
   "cell_type": "code",
   "execution_count": 5,
   "id": "12fa26ea-d1c8-4023-bc8f-7fe35e09204b",
   "metadata": {},
   "outputs": [],
   "source": [
    "#count of every character in category A\n",
    "dic_A = count_num(\"A\")"
   ]
  },
  {
   "cell_type": "code",
   "execution_count": 6,
   "id": "ca55d318-b7a0-4df4-ac41-d946ad3e2693",
   "metadata": {},
   "outputs": [
    {
     "data": {
      "text/plain": [
       "{'H': 4,\n",
       " 'R': 1,\n",
       " 'W': 1,\n",
       " 'S': 1,\n",
       " 'Y': 2,\n",
       " 'T': 3,\n",
       " 'X': 2,\n",
       " 'L': 1,\n",
       " 'K': 1,\n",
       " 'Z': 1,\n",
       " 'V': 1}"
      ]
     },
     "execution_count": 6,
     "metadata": {},
     "output_type": "execute_result"
    }
   ],
   "source": [
    "dic_A"
   ]
  },
  {
   "cell_type": "code",
   "execution_count": 7,
   "id": "6416120b-34be-4a53-97dd-c13031ac7f8e",
   "metadata": {},
   "outputs": [],
   "source": [
    "#count of every character in category B\n",
    "dic_B = count_num(\"B\")"
   ]
  },
  {
   "cell_type": "code",
   "execution_count": 8,
   "id": "a3bfd036-d19d-405f-82b8-734db92408aa",
   "metadata": {},
   "outputs": [
    {
     "data": {
      "text/plain": [
       "{'K': 2,\n",
       " 'T': 1,\n",
       " 'Z': 5,\n",
       " 'H': 1,\n",
       " 'V': 3,\n",
       " 'X': 1,\n",
       " 'M': 2,\n",
       " 'L': 1,\n",
       " 'R': 1,\n",
       " 'S': 1}"
      ]
     },
     "execution_count": 8,
     "metadata": {},
     "output_type": "execute_result"
    }
   ],
   "source": [
    "dic_B"
   ]
  },
  {
   "cell_type": "code",
   "execution_count": 9,
   "id": "66d58ecd-4ae2-40cb-aef4-a8481cc9a6b7",
   "metadata": {},
   "outputs": [],
   "source": [
    "#count of every character in category C\n",
    "dic_C = count_num(\"C\")"
   ]
  },
  {
   "cell_type": "code",
   "execution_count": 10,
   "id": "b1672f04-52d0-4091-a2b9-20725603c573",
   "metadata": {},
   "outputs": [
    {
     "data": {
      "text/plain": [
       "{'C': 5, 'T': 2, 'Y': 1, 'R': 2, 'Z': 1, 'S': 2, 'W': 4, 'K': 1}"
      ]
     },
     "execution_count": 10,
     "metadata": {},
     "output_type": "execute_result"
    }
   ],
   "source": [
    "dic_C"
   ]
  },
  {
   "cell_type": "code",
   "execution_count": 11,
   "id": "d1220c4b-2cf7-44f8-986b-7f24c8fe76a7",
   "metadata": {},
   "outputs": [],
   "source": [
    "####no use in model####\n",
    "def sigmoid(x):\n",
    "    return 1/(1 + np.exp(-x))"
   ]
  },
  {
   "cell_type": "markdown",
   "id": "30847375-5970-497c-8cd0-639ad3ee83ba",
   "metadata": {},
   "source": [
    "### step3: calculate the score for each combination"
   ]
  },
  {
   "cell_type": "code",
   "execution_count": 12,
   "id": "b1877438-608e-4521-8d61-284bce6bceb9",
   "metadata": {},
   "outputs": [],
   "source": [
    "def predict(dim:str) -> float:\n",
    "    #the score of each category is start by 0\n",
    "    total_A = 0 \n",
    "    total_B = 0\n",
    "    total_C = 0\n",
    "    for i in dim:\n",
    "        #if the character appears in category A, then the final score add the count of the character \n",
    "        if i in dic_A:\n",
    "            total_A += dic_A[i]\n",
    "        #if it not in category A, then the final score -6\n",
    "        else:\n",
    "            total_A -= 6\n",
    "        if i in dic_B:\n",
    "            total_B += dic_B[i]\n",
    "        else:\n",
    "            total_B -= 6\n",
    "        if i in dic_C:\n",
    "            total_C += dic_C[i]\n",
    "        else:\n",
    "            total_C -= 6\n",
    "    #return a list of score: A, B, C, A&B, A&C, B&C\n",
    "    return [total_A, total_B, total_C, (total_A + total_B)/2, (total_A + total_C)/2, (total_C + total_B)/2]"
   ]
  },
  {
   "cell_type": "code",
   "execution_count": 13,
   "id": "ce7490bc-6907-4b01-b726-3f2af10cdeec",
   "metadata": {},
   "outputs": [
    {
     "data": {
      "text/plain": [
       "[6, 4, -3, 5.0, 1.5, 0.5]"
      ]
     },
     "execution_count": 13,
     "metadata": {},
     "output_type": "execute_result"
    }
   ],
   "source": [
    "#This is a test case about \"KTX\"\n",
    "predict(\"KTX\")"
   ]
  },
  {
   "cell_type": "markdown",
   "id": "baa965b4-06de-40ba-8b5a-6f8374dd4c6b",
   "metadata": {},
   "source": [
    "test all the given combinations"
   ]
  },
  {
   "cell_type": "code",
   "execution_count": 14,
   "id": "6b6d6b85-0e6b-4672-ae4c-c8706680fcfa",
   "metadata": {},
   "outputs": [],
   "source": [
    "lst_test = [\"HRW\", \"HSY\", \"HTX\", \"LTY\", \"KTZ\", \"HVX\", \"MVZ\", \"KVZ\", \"LRZ\", \"MSZ\", \"CTY\", \"CRZ\", \"CSW\", \"CTW\", \"CRW\", \"KSW\"]"
   ]
  },
  {
   "cell_type": "code",
   "execution_count": 15,
   "id": "d0bf2522-e801-492e-a24c-88b91468f6d0",
   "metadata": {},
   "outputs": [
    {
     "name": "stdout",
     "output_type": "stream",
     "text": [
      "[6, -4, 0, 1.0, 3.0, -2.0]\n",
      "[7, -4, -3, 1.5, 2.0, -3.5]\n",
      "[9, 3, -10, 6.0, -0.5, -3.5]\n",
      "[6, -4, -3, 1.0, 1.5, -3.5]\n",
      "[5, 8, 4, 6.5, 4.5, 6.0]\n",
      "[7, 5, -18, 6.0, -5.5, -6.5]\n",
      "[-4, 10, -11, 3.0, -7.5, -0.5]\n",
      "[3, 10, -4, 6.5, -0.5, 3.0]\n",
      "[3, 7, -3, 5.0, 0.0, 2.0]\n",
      "[-4, 8, -3, 2.0, -3.5, 2.5]\n",
      "[-1, -11, 8, -6.0, 3.5, -1.5]\n",
      "[-4, 0, 8, -2.0, 2.0, 4.0]\n",
      "[-4, -11, 11, -7.5, 3.5, 0.0]\n",
      "[-2, -11, 11, -6.5, 4.5, 0.0]\n",
      "[-4, -11, 11, -7.5, 3.5, 0.0]\n",
      "[3, -3, 7, 0.0, 5.0, 2.0]\n"
     ]
    }
   ],
   "source": [
    "for i in lst_test:\n",
    "    print(predict(i))"
   ]
  },
  {
   "cell_type": "markdown",
   "id": "a33ec81a-97b4-44df-9e52-cbf6b1f038ae",
   "metadata": {},
   "source": [
    "### step4: calculate the combination about the experiment"
   ]
  },
  {
   "cell_type": "code",
   "execution_count": 16,
   "id": "22814d11-0718-4c28-a70f-ac2a14931b4d",
   "metadata": {},
   "outputs": [],
   "source": [
    "lst_test2 = [\"HVY\",\n",
    "\"CSZ\",\n",
    "\"LTW\",\n",
    "\"KVW\",\n",
    "\"KRZ\"]"
   ]
  },
  {
   "cell_type": "code",
   "execution_count": 17,
   "id": "6eec8a7e-c990-43e1-82fe-251935bf650b",
   "metadata": {},
   "outputs": [],
   "source": [
    "pre_result = []\n",
    "for i in lst_test2:\n",
    "    pre_result.append(predict(i))"
   ]
  },
  {
   "cell_type": "code",
   "execution_count": 18,
   "id": "b0baf541-bbec-4cbf-83b0-9265ef6038e7",
   "metadata": {},
   "outputs": [],
   "source": [
    "pre_lst = np.array(pre_result)"
   ]
  },
  {
   "cell_type": "markdown",
   "id": "29c9675c-bb77-46e0-a246-9891eade0c56",
   "metadata": {},
   "source": [
    "### step5: trans all the result to Z-score and compare"
   ]
  },
  {
   "cell_type": "code",
   "execution_count": 19,
   "id": "cdf691fb-a18c-4c2a-87ea-7ff4f33cfd3c",
   "metadata": {},
   "outputs": [],
   "source": [
    "#calculate single Z-score\n",
    "def z_score(value, mean, std_dev):\n",
    "    return (value - mean) / std_dev"
   ]
  },
  {
   "cell_type": "code",
   "execution_count": 20,
   "id": "d075914c-33eb-45cd-8ff9-65c964804c43",
   "metadata": {},
   "outputs": [],
   "source": [
    "#calculate each Z-score\n",
    "def z_score_lst(data):\n",
    "    mean = data.mean()\n",
    "    std_dev = data.std()\n",
    "    return np.array([z_score(value, mean, std_dev) for value in data])"
   ]
  },
  {
   "cell_type": "code",
   "execution_count": 21,
   "id": "e3110a2b-693c-4e7d-b968-b8fbcf22d7b8",
   "metadata": {},
   "outputs": [],
   "source": [
    "test = pd.ExcelFile(\"test.xlsx\").parse('Sheet2')"
   ]
  },
  {
   "cell_type": "code",
   "execution_count": 22,
   "id": "8b990c24-3a89-40e7-920d-45807f008b91",
   "metadata": {},
   "outputs": [
    {
     "data": {
      "text/html": [
       "<div>\n",
       "<style scoped>\n",
       "    .dataframe tbody tr th:only-of-type {\n",
       "        vertical-align: middle;\n",
       "    }\n",
       "\n",
       "    .dataframe tbody tr th {\n",
       "        vertical-align: top;\n",
       "    }\n",
       "\n",
       "    .dataframe thead th {\n",
       "        text-align: right;\n",
       "    }\n",
       "</style>\n",
       "<table border=\"1\" class=\"dataframe\">\n",
       "  <thead>\n",
       "    <tr style=\"text-align: right;\">\n",
       "      <th></th>\n",
       "      <th>Unnamed: 0</th>\n",
       "      <th>Dim 1</th>\n",
       "      <th>Dim 2</th>\n",
       "      <th>Dim 3</th>\n",
       "      <th>cate</th>\n",
       "      <th>score</th>\n",
       "    </tr>\n",
       "  </thead>\n",
       "  <tbody>\n",
       "    <tr>\n",
       "      <th>0</th>\n",
       "      <td>1</td>\n",
       "      <td>H</td>\n",
       "      <td>V</td>\n",
       "      <td>Y</td>\n",
       "      <td>category A</td>\n",
       "      <td>6.777778</td>\n",
       "    </tr>\n",
       "    <tr>\n",
       "      <th>1</th>\n",
       "      <td>2</td>\n",
       "      <td>C</td>\n",
       "      <td>S</td>\n",
       "      <td>Z</td>\n",
       "      <td>category A</td>\n",
       "      <td>-9.333333</td>\n",
       "    </tr>\n",
       "    <tr>\n",
       "      <th>2</th>\n",
       "      <td>3</td>\n",
       "      <td>L</td>\n",
       "      <td>T</td>\n",
       "      <td>W</td>\n",
       "      <td>category A</td>\n",
       "      <td>-3.111111</td>\n",
       "    </tr>\n",
       "    <tr>\n",
       "      <th>3</th>\n",
       "      <td>4</td>\n",
       "      <td>K</td>\n",
       "      <td>V</td>\n",
       "      <td>W</td>\n",
       "      <td>category A</td>\n",
       "      <td>-3.055556</td>\n",
       "    </tr>\n",
       "    <tr>\n",
       "      <th>4</th>\n",
       "      <td>5</td>\n",
       "      <td>K</td>\n",
       "      <td>R</td>\n",
       "      <td>Z</td>\n",
       "      <td>category A</td>\n",
       "      <td>-1.388889</td>\n",
       "    </tr>\n",
       "    <tr>\n",
       "      <th>5</th>\n",
       "      <td>1</td>\n",
       "      <td>H</td>\n",
       "      <td>V</td>\n",
       "      <td>Y</td>\n",
       "      <td>category B</td>\n",
       "      <td>-2.000000</td>\n",
       "    </tr>\n",
       "    <tr>\n",
       "      <th>6</th>\n",
       "      <td>2</td>\n",
       "      <td>C</td>\n",
       "      <td>S</td>\n",
       "      <td>Z</td>\n",
       "      <td>category B</td>\n",
       "      <td>-3.222222</td>\n",
       "    </tr>\n",
       "    <tr>\n",
       "      <th>7</th>\n",
       "      <td>3</td>\n",
       "      <td>L</td>\n",
       "      <td>T</td>\n",
       "      <td>W</td>\n",
       "      <td>category B</td>\n",
       "      <td>-5.277778</td>\n",
       "    </tr>\n",
       "    <tr>\n",
       "      <th>8</th>\n",
       "      <td>4</td>\n",
       "      <td>K</td>\n",
       "      <td>V</td>\n",
       "      <td>W</td>\n",
       "      <td>category B</td>\n",
       "      <td>-0.555556</td>\n",
       "    </tr>\n",
       "    <tr>\n",
       "      <th>9</th>\n",
       "      <td>5</td>\n",
       "      <td>K</td>\n",
       "      <td>R</td>\n",
       "      <td>Z</td>\n",
       "      <td>category B</td>\n",
       "      <td>7.000000</td>\n",
       "    </tr>\n",
       "  </tbody>\n",
       "</table>\n",
       "</div>"
      ],
      "text/plain": [
       "   Unnamed: 0 Dim 1 Dim 2 Dim 3        cate     score\n",
       "0           1     H     V     Y  category A  6.777778\n",
       "1           2     C     S     Z  category A -9.333333\n",
       "2           3     L     T     W  category A -3.111111\n",
       "3           4     K     V     W  category A -3.055556\n",
       "4           5     K     R     Z  category A -1.388889\n",
       "5           1     H     V     Y  category B -2.000000\n",
       "6           2     C     S     Z  category B -3.222222\n",
       "7           3     L     T     W  category B -5.277778\n",
       "8           4     K     V     W  category B -0.555556\n",
       "9           5     K     R     Z  category B  7.000000"
      ]
     },
     "execution_count": 22,
     "metadata": {},
     "output_type": "execute_result"
    }
   ],
   "source": [
    "test.head(10)"
   ]
  },
  {
   "cell_type": "code",
   "execution_count": 23,
   "id": "1912cf9d-d7cc-4f6a-ad00-1aa34ea63497",
   "metadata": {},
   "outputs": [],
   "source": [
    "test_data = np.array(test.score)"
   ]
  },
  {
   "cell_type": "code",
   "execution_count": 24,
   "id": "36edb225-58a7-44f1-bfb8-4f9ff0e30a54",
   "metadata": {},
   "outputs": [],
   "source": [
    "test_Z = z_score_lst(test_data)"
   ]
  },
  {
   "cell_type": "code",
   "execution_count": 25,
   "id": "23925eeb-ebfe-4f32-960e-ba65491225cf",
   "metadata": {},
   "outputs": [],
   "source": [
    "pre_Z = z_score_lst(pre_lst).T.ravel()"
   ]
  },
  {
   "cell_type": "code",
   "execution_count": 26,
   "id": "739b6d0f-8204-404f-9a81-82a5a1ac8704",
   "metadata": {},
   "outputs": [
    {
     "data": {
      "image/png": "[encoded data removed]",
      "text/plain": [
       "<Figure size 640x480 with 1 Axes>"
      ]
     },
     "metadata": {},
     "output_type": "display_data"
    }
   ],
   "source": [
    "plt.scatter(pre_Z, test_Z)\n",
    "plt.xlabel('predict_Z_score')\n",
    "plt.ylabel('experitment_Z_score')\n",
    "plt.show()"
   ]
  },
  {
   "cell_type": "code",
   "execution_count": 27,
   "id": "e5d2003d-eff3-4465-a16e-6101bee67aea",
   "metadata": {},
   "outputs": [
    {
     "name": "stdout",
     "output_type": "stream",
     "text": [
      "corrrelation: 0.6888659915290111\n"
     ]
    }
   ],
   "source": [
    "print(\"corrrelation:\",np.corrcoef(pre_Z, test_Z)[0,1])"
   ]
  },
  {
   "cell_type": "code",
   "execution_count": 28,
   "id": "b0ebee5b-1c5a-4350-b873-cab5f9ad8705",
   "metadata": {},
   "outputs": [],
   "source": [
    "def ave_err(x,y):\n",
    "    return sum([i - j for i in x\n",
    "                 for j in y])\n",
    "    "
   ]
  },
  {
   "cell_type": "code",
   "execution_count": 29,
   "id": "95d6961c-ba3d-4931-bd11-ffb1aac31a30",
   "metadata": {},
   "outputs": [
    {
     "data": {
      "text/plain": [
       "3.68594044175552e-14"
      ]
     },
     "execution_count": 29,
     "metadata": {},
     "output_type": "execute_result"
    }
   ],
   "source": [
    "ave_err(pre_Z, test_Z)"
   ]
  },
  {
   "cell_type": "code",
   "execution_count": null,
   "id": "c394c964-1548-4df1-a341-1b5d3fbf9ebb",
   "metadata": {},
   "outputs": [],
   "source": []
  }
 ],
 "metadata": {
  "kernelspec": {
   "display_name": "Python 3 (ipykernel)",
   "language": "python",
   "name": "python3"
  },
  "language_info": {
   "codemirror_mode": {
    "name": "ipython",
    "version": 3
   },
   "file_extension": ".py",
   "mimetype": "text/x-python",
   "name": "python",
   "nbconvert_exporter": "python",
   "pygments_lexer": "ipython3",
   "version": "3.9.2"
  }
 },
 "nbformat": 4,
 "nbformat_minor": 5
}
